{
 "cells": [
  {
   "cell_type": "code",
   "execution_count": 1,
   "metadata": {},
   "outputs": [
    {
     "data": {
      "text/plain": [
       "'f:\\\\Machine_learning_end_to_end\\\\machine_learning\\\\notebooks'"
      ]
     },
     "execution_count": 1,
     "metadata": {},
     "output_type": "execute_result"
    }
   ],
   "source": [
    "%pwd"
   ]
  },
  {
   "cell_type": "code",
   "execution_count": 2,
   "metadata": {},
   "outputs": [],
   "source": [
    "import os"
   ]
  },
  {
   "cell_type": "code",
   "execution_count": 3,
   "metadata": {},
   "outputs": [],
   "source": [
    "os.chdir(\"../\")"
   ]
  },
  {
   "cell_type": "code",
   "execution_count": 4,
   "metadata": {},
   "outputs": [
    {
     "data": {
      "text/plain": [
       "'f:\\\\Machine_learning_end_to_end\\\\machine_learning'"
      ]
     },
     "execution_count": 4,
     "metadata": {},
     "output_type": "execute_result"
    }
   ],
   "source": [
    "%pwd"
   ]
  },
  {
   "cell_type": "code",
   "execution_count": 14,
   "metadata": {},
   "outputs": [],
   "source": [
    "from dataclasses import dataclass\n",
    "from src.constant import *"
   ]
  },
  {
   "cell_type": "code",
   "execution_count": 30,
   "metadata": {},
   "outputs": [],
   "source": [
    "@dataclass\n",
    "class ModelTrainerConfig:\n",
    "    pkl_obj_path:Path\n",
    "    model_path:Path\n",
    "    alpha:float\n",
    "    l1_ratio:float\n",
    "    TARGET_COLUMN:str"
   ]
  },
  {
   "cell_type": "code",
   "execution_count": null,
   "metadata": {},
   "outputs": [],
   "source": [
    "from src.utils.common import read_yaml\n",
    "\n",
    "\n",
    "class Configuration:\n",
    "    def __init__(self,config_file_path=CONFIG_FILE_PATH,\n",
    "                 schema_file_path=SCHEMA_FILE_PATH,\n",
    "                 param_file_path=PARAMS_FILE_PATH):\n",
    "        self.config=read_yaml(config_file_path)\n",
    "        self.schema=read_yaml(schema_file_path)\n",
    "        self.params=read_yaml(param_file_path)\n",
    "\n",
    "    def model_trainer_config(self):\n",
    "        config=self.config.model_trainer\n",
    "        schema=self.schema.TARGET_COLUMN\n",
    "        params=self.params.ElasticNet\n",
    "\n",
    "        model_trainer_config=ModelTrainerConfig(\n",
    "            pkl_obj_path=config.pkl_obj_path,\n",
    "            model_path=config.model_path,\n",
    "            alpha=params.alpha,\n",
    "            l1_ratio=params.l1_ratio,\n",
    "            TARGET_COLUMN=schema.TARGET_COLUMN.name\n",
    "\n",
    "        )\n",
    "        return model_trainer_config"
   ]
  },
  {
   "cell_type": "code",
   "execution_count": 38,
   "metadata": {},
   "outputs": [],
   "source": [
    "import pandas as pd\n",
    "import os\n",
    "from src import logger\n",
    "from sklearn.linear_model import ElasticNet\n",
    "import joblib"
   ]
  },
  {
   "cell_type": "code",
   "execution_count": 39,
   "metadata": {},
   "outputs": [],
   "source": [
    "class ModelTrainer:\n",
    "    def __init__(self,config:ModelTrainerConfig):\n",
    "        self.config=config\n",
    "\n",
    "    def train_model(self,train_arr,test_arr):\n",
    "        logger.info(\"Model Trainer Started\")\n",
    "        X_train=train_arr.iloc[:,:-1]\n",
    "        logger.info(f\"X train shape is {pd.DataFrame(X_train).shape}\")\n",
    "        Y_train=train_arr.iloc[:,-1]\n",
    "        logger.info(f\"Y train shape is {pd.DataFrame(Y_train).shape}\")\n",
    "        X_test=test_arr[:,:-1]\n",
    "        logger.info(f\"X test shape is {pd.DataFrame(X_test).shape}\")\n",
    "        Y_test=test_arr[:,-1]\n",
    "        logger.info(f\"Y test shape is {pd.DataFrame(Y_test).shape}\")\n",
    "\n",
    "        lr=ElasticNet(alpha=self.config.alpha,l1_ratio=self.config.l1_ratio)\n",
    "        lr.fit(X_train,Y_train)\n",
    "        joblib.dump(lr,self.config.model_path)\n",
    "        logger.info(\"Model Trainer Config\")\n",
    "        "
   ]
  },
  {
   "cell_type": "code",
   "execution_count": 40,
   "metadata": {},
   "outputs": [],
   "source": [
    "from src.configuration.config import ConfigurationManager\n",
    "from src.components.data_transformation import DataTransformation\n",
    "from  src.entity.config_entity import DataTransformationConfig"
   ]
  },
  {
   "cell_type": "code",
   "execution_count": 41,
   "metadata": {},
   "outputs": [
    {
     "name": "stdout",
     "output_type": "stream",
     "text": [
      "[2024-11-16 02:19:13,819 : INFO : common : yaml file path : config\\config.yaml loaded successfully:]\n",
      "[2024-11-16 02:19:13,831 : INFO : common : yaml file path : schema.yaml loaded successfully:]\n",
      "[2024-11-16 02:19:13,839 : INFO : common : yaml file path : params.yaml loaded successfully:]\n",
      "[2024-11-16 02:19:13,906 : INFO : data_transformation : data are splitted into train and test]\n",
      "[2024-11-16 02:19:13,924 : INFO : data_transformation : train data shape (914, 12)]\n",
      "[2024-11-16 02:19:13,929 : INFO : data_transformation : test data shape (229, 12)]\n",
      "[2024-11-16 02:19:13,936 : INFO : data_transformation : train data column : ['fixed acidity', 'volatile acidity', 'citric acid', 'residual sugar', 'chlorides', 'free sulfur dioxide', 'total sulfur dioxide', 'density', 'pH', 'sulphates', 'alcohol', 'quality']\n",
      "]\n",
      "[2024-11-16 02:19:13,941 : INFO : data_transformation : test data column ['fixed acidity', 'volatile acidity', 'citric acid', 'residual sugar', 'chlorides', 'free sulfur dioxide', 'total sulfur dioxide', 'density', 'pH', 'sulphates', 'alcohol', 'quality']\n",
      "]\n",
      "[2024-11-16 02:19:13,945 : INFO : data_transformation : train,test data saved to path]\n"
     ]
    },
    {
     "name": "stdout",
     "output_type": "stream",
     "text": [
      "[2024-11-16 02:19:14,038 : INFO : data_transformation : preprocessor object]\n",
      "[2024-11-16 02:19:14,041 : INFO : data_transformation : data transformation object start creating \n",
      "]\n",
      "[2024-11-16 02:19:14,048 : INFO : data_transformation : data Transformation object creation completed ]\n",
      "[2024-11-16 02:19:14,053 : INFO : data_transformation : splitting target column from train data]\n",
      "[2024-11-16 02:19:14,061 : INFO : data_transformation : Target column splitted from train data]\n",
      "[2024-11-16 02:19:14,066 : INFO : data_transformation : splitting target column from test data]\n",
      "[2024-11-16 02:19:14,071 : INFO : data_transformation : target column splitted from test data]\n",
      "[2024-11-16 02:19:14,075 : INFO : data_transformation : Transform data]\n",
      "[2024-11-16 02:19:14,126 : INFO : data_transformation : save preprocessor object]\n",
      "[2024-11-16 02:19:14,140 : INFO : common : binary file save to : data\\processed\\prepro.joblib]\n",
      "[2024-11-16 02:19:14,143 : INFO : data_transformation : Returned train array , test array:]\n",
      "[2024-11-16 02:19:14,149 : INFO : data_transformation : train array shape (914, 12)]\n",
      "[2024-11-16 02:19:14,152 : INFO : data_transformation : test array shape (229, 12)]\n"
     ]
    }
   ],
   "source": [
    "obj=ConfigurationManager()\n",
    "data_trans=obj.data_transformation_config()\n",
    "obj2=DataTransformation(data_trans)\n",
    "train_arr,test_arr=obj2.train_test_split()"
   ]
  },
  {
   "cell_type": "code",
   "execution_count": 42,
   "metadata": {},
   "outputs": [
    {
     "name": "stdout",
     "output_type": "stream",
     "text": [
      "[2024-11-16 02:19:14,805 : INFO : common : yaml file path : config\\config.yaml loaded successfully:]\n",
      "[2024-11-16 02:19:14,817 : INFO : common : yaml file path : schema.yaml loaded successfully:]\n",
      "[2024-11-16 02:19:14,823 : INFO : common : yaml file path : params.yaml loaded successfully:]\n"
     ]
    },
    {
     "ename": "BoxKeyError",
     "evalue": "\"'ConfigBox' object has no attribute 'target_column'\"",
     "output_type": "error",
     "traceback": [
      "\u001b[1;31m---------------------------------------------------------------------------\u001b[0m",
      "\u001b[1;31mKeyError\u001b[0m                                  Traceback (most recent call last)",
      "File \u001b[1;32mf:\\Machine_learning_end_to_end\\machine_learning\\myenv\\lib\\site-packages\\box\\box.py:503\u001b[0m, in \u001b[0;36mbox.box.Box.__getitem__\u001b[1;34m()\u001b[0m\n",
      "\u001b[1;31mKeyError\u001b[0m: 'TARGET_COLUMN'",
      "\nThe above exception was the direct cause of the following exception:\n",
      "\u001b[1;31mBoxKeyError\u001b[0m                               Traceback (most recent call last)",
      "File \u001b[1;32mf:\\Machine_learning_end_to_end\\machine_learning\\myenv\\lib\\site-packages\\box\\box.py:536\u001b[0m, in \u001b[0;36mbox.box.Box.__getattr__\u001b[1;34m()\u001b[0m\n",
      "File \u001b[1;32mf:\\Machine_learning_end_to_end\\machine_learning\\myenv\\lib\\site-packages\\box\\box.py:524\u001b[0m, in \u001b[0;36mbox.box.Box.__getitem__\u001b[1;34m()\u001b[0m\n",
      "\u001b[1;31mBoxKeyError\u001b[0m: \"'TARGET_COLUMN'\"",
      "\nDuring handling of the above exception, another exception occurred:\n",
      "\u001b[1;31mAttributeError\u001b[0m                            Traceback (most recent call last)",
      "File \u001b[1;32mf:\\Machine_learning_end_to_end\\machine_learning\\myenv\\lib\\site-packages\\box\\box.py:538\u001b[0m, in \u001b[0;36mbox.box.Box.__getattr__\u001b[1;34m()\u001b[0m\n",
      "\u001b[1;31mAttributeError\u001b[0m: 'ConfigBox' object has no attribute 'TARGET_COLUMN'",
      "\nThe above exception was the direct cause of the following exception:\n",
      "\u001b[1;31mBoxKeyError\u001b[0m                               Traceback (most recent call last)",
      "File \u001b[1;32mf:\\Machine_learning_end_to_end\\machine_learning\\myenv\\lib\\site-packages\\box\\config_box.py:28\u001b[0m, in \u001b[0;36mbox.config_box.ConfigBox.__getattr__\u001b[1;34m()\u001b[0m\n",
      "File \u001b[1;32mf:\\Machine_learning_end_to_end\\machine_learning\\myenv\\lib\\site-packages\\box\\box.py:552\u001b[0m, in \u001b[0;36mbox.box.Box.__getattr__\u001b[1;34m()\u001b[0m\n",
      "\u001b[1;31mBoxKeyError\u001b[0m: \"'ConfigBox' object has no attribute 'TARGET_COLUMN'\"",
      "\nDuring handling of the above exception, another exception occurred:\n",
      "\u001b[1;31mKeyError\u001b[0m                                  Traceback (most recent call last)",
      "File \u001b[1;32mf:\\Machine_learning_end_to_end\\machine_learning\\myenv\\lib\\site-packages\\box\\box.py:503\u001b[0m, in \u001b[0;36mbox.box.Box.__getitem__\u001b[1;34m()\u001b[0m\n",
      "\u001b[1;31mKeyError\u001b[0m: 'target_column'",
      "\nThe above exception was the direct cause of the following exception:\n",
      "\u001b[1;31mBoxKeyError\u001b[0m                               Traceback (most recent call last)",
      "File \u001b[1;32mf:\\Machine_learning_end_to_end\\machine_learning\\myenv\\lib\\site-packages\\box\\box.py:536\u001b[0m, in \u001b[0;36mbox.box.Box.__getattr__\u001b[1;34m()\u001b[0m\n",
      "File \u001b[1;32mf:\\Machine_learning_end_to_end\\machine_learning\\myenv\\lib\\site-packages\\box\\box.py:524\u001b[0m, in \u001b[0;36mbox.box.Box.__getitem__\u001b[1;34m()\u001b[0m\n",
      "\u001b[1;31mBoxKeyError\u001b[0m: \"'target_column'\"",
      "\nDuring handling of the above exception, another exception occurred:\n",
      "\u001b[1;31mAttributeError\u001b[0m                            Traceback (most recent call last)",
      "File \u001b[1;32mf:\\Machine_learning_end_to_end\\machine_learning\\myenv\\lib\\site-packages\\box\\box.py:538\u001b[0m, in \u001b[0;36mbox.box.Box.__getattr__\u001b[1;34m()\u001b[0m\n",
      "\u001b[1;31mAttributeError\u001b[0m: 'ConfigBox' object has no attribute 'target_column'",
      "\nThe above exception was the direct cause of the following exception:\n",
      "\u001b[1;31mBoxKeyError\u001b[0m                               Traceback (most recent call last)",
      "Cell \u001b[1;32mIn[42], line 2\u001b[0m\n\u001b[0;32m      1\u001b[0m obj3\u001b[38;5;241m=\u001b[39mConfiguration()\n\u001b[1;32m----> 2\u001b[0m trainer_config\u001b[38;5;241m=\u001b[39m\u001b[43mobj3\u001b[49m\u001b[38;5;241;43m.\u001b[39;49m\u001b[43mmodel_trainer_config\u001b[49m\u001b[43m(\u001b[49m\u001b[43m)\u001b[49m\n\u001b[0;32m      3\u001b[0m obj4\u001b[38;5;241m=\u001b[39mModelTrainer(trainer_config)\n\u001b[0;32m      4\u001b[0m obj4\u001b[38;5;241m.\u001b[39mtrain_model(train_arr,test_arr)\n",
      "Cell \u001b[1;32mIn[37], line 22\u001b[0m, in \u001b[0;36mConfiguration.model_trainer_config\u001b[1;34m(self)\u001b[0m\n\u001b[0;32m     14\u001b[0m schema\u001b[38;5;241m=\u001b[39m\u001b[38;5;28mself\u001b[39m\u001b[38;5;241m.\u001b[39mschema\u001b[38;5;241m.\u001b[39mTARGET_COLUMN\n\u001b[0;32m     15\u001b[0m params\u001b[38;5;241m=\u001b[39m\u001b[38;5;28mself\u001b[39m\u001b[38;5;241m.\u001b[39mparams\u001b[38;5;241m.\u001b[39mElasticNet\n\u001b[0;32m     17\u001b[0m model_trainer_config\u001b[38;5;241m=\u001b[39mModelTrainerConfig(\n\u001b[0;32m     18\u001b[0m     pkl_obj_path\u001b[38;5;241m=\u001b[39mconfig\u001b[38;5;241m.\u001b[39mpkl_obj_path,\n\u001b[0;32m     19\u001b[0m     model_path\u001b[38;5;241m=\u001b[39mconfig\u001b[38;5;241m.\u001b[39mmodel_path,\n\u001b[0;32m     20\u001b[0m     alpha\u001b[38;5;241m=\u001b[39mparams\u001b[38;5;241m.\u001b[39malpha,\n\u001b[0;32m     21\u001b[0m     l1_ratio\u001b[38;5;241m=\u001b[39mparams\u001b[38;5;241m.\u001b[39ml1_ratio,\n\u001b[1;32m---> 22\u001b[0m     TARGET_COLUMN\u001b[38;5;241m=\u001b[39m\u001b[43mschema\u001b[49m\u001b[38;5;241;43m.\u001b[39;49m\u001b[43mTARGET_COLUMN\u001b[49m\n\u001b[0;32m     23\u001b[0m \n\u001b[0;32m     24\u001b[0m )\n\u001b[0;32m     25\u001b[0m \u001b[38;5;28;01mreturn\u001b[39;00m model_trainer_config\n",
      "File \u001b[1;32mf:\\Machine_learning_end_to_end\\machine_learning\\myenv\\lib\\site-packages\\box\\config_box.py:30\u001b[0m, in \u001b[0;36mbox.config_box.ConfigBox.__getattr__\u001b[1;34m()\u001b[0m\n",
      "File \u001b[1;32mf:\\Machine_learning_end_to_end\\machine_learning\\myenv\\lib\\site-packages\\box\\box.py:552\u001b[0m, in \u001b[0;36mbox.box.Box.__getattr__\u001b[1;34m()\u001b[0m\n",
      "\u001b[1;31mBoxKeyError\u001b[0m: \"'ConfigBox' object has no attribute 'target_column'\""
     ]
    }
   ],
   "source": [
    "obj3=Configuration()\n",
    "trainer_config=obj3.model_trainer_config()\n",
    "obj4=ModelTrainer(trainer_config)\n",
    "obj4.train_model(train_arr,test_arr)"
   ]
  },
  {
   "cell_type": "code",
   "execution_count": null,
   "metadata": {},
   "outputs": [],
   "source": []
  }
 ],
 "metadata": {
  "kernelspec": {
   "display_name": "myenv",
   "language": "python",
   "name": "python3"
  },
  "language_info": {
   "codemirror_mode": {
    "name": "ipython",
    "version": 3
   },
   "file_extension": ".py",
   "mimetype": "text/x-python",
   "name": "python",
   "nbconvert_exporter": "python",
   "pygments_lexer": "ipython3",
   "version": "3.8.0"
  }
 },
 "nbformat": 4,
 "nbformat_minor": 2
}
