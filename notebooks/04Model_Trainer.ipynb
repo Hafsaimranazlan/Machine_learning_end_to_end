{
 "cells": [
  {
   "cell_type": "code",
   "execution_count": 24,
   "metadata": {},
   "outputs": [
    {
     "data": {
      "text/plain": [
       "'f:\\\\Machine_learning_end_to_end\\\\machine_learning\\\\notebooks'"
      ]
     },
     "execution_count": 24,
     "metadata": {},
     "output_type": "execute_result"
    }
   ],
   "source": [
    "%pwd"
   ]
  },
  {
   "cell_type": "code",
   "execution_count": 25,
   "metadata": {},
   "outputs": [],
   "source": [
    "import os"
   ]
  },
  {
   "cell_type": "code",
   "execution_count": 26,
   "metadata": {},
   "outputs": [],
   "source": [
    "os.chdir(\"../\")"
   ]
  },
  {
   "cell_type": "code",
   "execution_count": 27,
   "metadata": {},
   "outputs": [
    {
     "data": {
      "text/plain": [
       "'f:\\\\Machine_learning_end_to_end\\\\machine_learning'"
      ]
     },
     "execution_count": 27,
     "metadata": {},
     "output_type": "execute_result"
    }
   ],
   "source": [
    "%pwd"
   ]
  },
  {
   "cell_type": "code",
   "execution_count": 28,
   "metadata": {},
   "outputs": [],
   "source": [
    "from dataclasses import dataclass\n",
    "from src.constant import *"
   ]
  },
  {
   "cell_type": "code",
   "execution_count": 29,
   "metadata": {},
   "outputs": [],
   "source": [
    "@dataclass\n",
    "class ModelTrainerConfig:\n",
    "    pkl_obj_path:Path\n",
    "    model_path:Path\n",
    "    alpha:float\n",
    "    l1_ratio:float\n",
    "    TARGET_COLUMN:str\n",
    "    metric_file_name:Path"
   ]
  },
  {
   "cell_type": "code",
   "execution_count": 30,
   "metadata": {},
   "outputs": [],
   "source": [
    "from src.utils.common import read_yaml,save_json\n",
    "\n",
    "\n",
    "class Configuration:\n",
    "    def __init__(self,config_file_path=CONFIG_FILE_PATH,\n",
    "                 schema_file_path=SCHEMA_FILE_PATH,\n",
    "                 param_file_path=PARAMS_FILE_PATH):\n",
    "        self.config=read_yaml(config_file_path)\n",
    "        self.schema=read_yaml(schema_file_path)\n",
    "        self.params=read_yaml(param_file_path)\n",
    "\n",
    "    def model_trainer_config(self):\n",
    "        config=self.config.model_trainer\n",
    "        schema=self.schema.TARGET_COLUMN\n",
    "        params=self.params.ElasticNet\n",
    "\n",
    "        model_trainer_config=ModelTrainerConfig(\n",
    "            pkl_obj_path=config.pkl_obj_path,\n",
    "            model_path=config.model_path,\n",
    "            alpha=params.alpha,\n",
    "            l1_ratio=params.l1_ratio,\n",
    "            TARGET_COLUMN=schema.name,\n",
    "            metric_file_name=config.metric_file_name\n",
    "\n",
    "        )\n",
    "        return model_trainer_config"
   ]
  },
  {
   "cell_type": "code",
   "execution_count": 31,
   "metadata": {},
   "outputs": [],
   "source": [
    "import pandas as pd\n",
    "import os\n",
    "from src import logger\n",
    "from sklearn.linear_model import ElasticNet\n",
    "from sklearn.metrics import mean_squared_error,r2_score\n",
    "import joblib"
   ]
  },
  {
   "cell_type": "code",
   "execution_count": 36,
   "metadata": {},
   "outputs": [],
   "source": [
    "\n",
    "class ModelTrainer:\n",
    "    def __init__(self,config:ModelTrainerConfig):\n",
    "        self.config=config\n",
    "\n",
    "    def evaluate(self,X_train,Y_train,X_test,Y_test):\n",
    "        lr=ElasticNet(alpha=self.config.alpha,l1_ratio=self.config.l1_ratio)\n",
    "        lr.fit(X_train,Y_train)\n",
    "\n",
    "        y_pred=lr.predict(X_test)\n",
    "        r2_scores=r2_score(Y_test,y_pred)\n",
    "        mae_score=mean_squared_error(Y_test,y_pred)\n",
    "        logger.info(f\"accuracy score is {r2_scores}\")\n",
    "        logger.info(f\"mean squared error is {mae_score}\")\n",
    "        return r2_scores,mae_score\n",
    "\n",
    "\n",
    "    def train_model(self,train_arr,test_arr):\n",
    "        logger.info(\"Model Trainer Started\")\n",
    "        X_train=train_arr[:,:-1]\n",
    "        logger.info(f\"X train shape is {pd.DataFrame(X_train).shape}\")\n",
    "        Y_train=train_arr[:,-1]\n",
    "        logger.info(f\"Y train shape is {pd.DataFrame(Y_train).shape}\")\n",
    "        X_test=test_arr[:,:-1]\n",
    "        logger.info(f\"X test shape is {pd.DataFrame(X_test).shape}\")\n",
    "        Y_test=test_arr[:,-1]\n",
    "        logger.info(f\"Y test shape is {pd.DataFrame(Y_test).shape}\")\n",
    "        r2_scores,mae_score=self.evaluate(X_train,Y_train,X_test,Y_test)\n",
    "        scores={\"accuracy\":r2_scores,\"mae\":mae_score}\n",
    "        save_json(Path(self.config.metric_file_name),scores)"
   ]
  },
  {
   "cell_type": "code",
   "execution_count": 37,
   "metadata": {},
   "outputs": [],
   "source": [
    "from src.configuration.config import ConfigurationManager\n",
    "from src.components.data_transformation import DataTransformation\n",
    "from  src.entity.config_entity import DataTransformationConfig"
   ]
  },
  {
   "cell_type": "code",
   "execution_count": 38,
   "metadata": {},
   "outputs": [
    {
     "name": "stdout",
     "output_type": "stream",
     "text": [
      "[2024-11-17 20:35:17,258 : INFO : common : yaml file path : config\\config.yaml loaded successfully:]\n",
      "[2024-11-17 20:35:17,305 : INFO : common : yaml file path : schema.yaml loaded successfully:]\n",
      "[2024-11-17 20:35:17,316 : INFO : common : yaml file path : params.yaml loaded successfully:]\n",
      "[2024-11-17 20:35:18,500 : INFO : data_transformation : data are splitted into train and test]\n",
      "[2024-11-17 20:35:18,600 : INFO : data_transformation : train data shape (914, 12)]\n",
      "[2024-11-17 20:35:18,603 : INFO : data_transformation : test data shape (229, 12)]\n",
      "[2024-11-17 20:35:18,608 : INFO : data_transformation : train data column : ['fixed acidity', 'volatile acidity', 'citric acid', 'residual sugar', 'chlorides', 'free sulfur dioxide', 'total sulfur dioxide', 'density', 'pH', 'sulphates', 'alcohol', 'quality']\n",
      "]\n",
      "[2024-11-17 20:35:18,612 : INFO : data_transformation : test data column ['fixed acidity', 'volatile acidity', 'citric acid', 'residual sugar', 'chlorides', 'free sulfur dioxide', 'total sulfur dioxide', 'density', 'pH', 'sulphates', 'alcohol', 'quality']\n",
      "]\n",
      "[2024-11-17 20:35:18,615 : INFO : data_transformation : train,test data saved to path]\n",
      "[2024-11-17 20:35:18,670 : INFO : data_transformation : preprocessor object]\n",
      "[2024-11-17 20:35:18,674 : INFO : data_transformation : data transformation object start creating \n",
      "]\n",
      "[2024-11-17 20:35:18,686 : INFO : data_transformation : data Transformation object creation completed ]\n",
      "[2024-11-17 20:35:18,690 : INFO : data_transformation : splitting target column from train data]\n",
      "[2024-11-17 20:35:18,701 : INFO : data_transformation : Target column splitted from train data]\n",
      "[2024-11-17 20:35:18,703 : INFO : data_transformation : splitting target column from test data]\n",
      "[2024-11-17 20:35:18,710 : INFO : data_transformation : target column splitted from test data]\n",
      "[2024-11-17 20:35:18,713 : INFO : data_transformation : Transform data]\n",
      "[2024-11-17 20:35:18,789 : INFO : data_transformation : save preprocessor object]\n",
      "[2024-11-17 20:35:18,803 : INFO : common : binary file save to : data\\processed\\prepro.joblib]\n",
      "[2024-11-17 20:35:18,808 : INFO : data_transformation : Returned train array , test array:]\n",
      "[2024-11-17 20:35:18,811 : INFO : data_transformation : train array shape (914, 12)]\n",
      "[2024-11-17 20:35:18,814 : INFO : data_transformation : test array shape (229, 12)]\n"
     ]
    }
   ],
   "source": [
    "obj=ConfigurationManager()\n",
    "data_trans=obj.data_transformation_config()\n",
    "obj2=DataTransformation(data_trans)\n",
    "train_arr,test_arr=obj2.train_test_split()"
   ]
  },
  {
   "cell_type": "code",
   "execution_count": 39,
   "metadata": {},
   "outputs": [
    {
     "name": "stdout",
     "output_type": "stream",
     "text": [
      "[2024-11-17 20:35:19,887 : INFO : common : yaml file path : config\\config.yaml loaded successfully:]\n",
      "[2024-11-17 20:35:19,897 : INFO : common : yaml file path : schema.yaml loaded successfully:]\n",
      "[2024-11-17 20:35:19,902 : INFO : common : yaml file path : params.yaml loaded successfully:]\n",
      "[2024-11-17 20:35:19,907 : INFO : 2563309750 : Model Trainer Started]\n",
      "[2024-11-17 20:35:19,910 : INFO : 2563309750 : X train shape is (914, 11)]\n",
      "[2024-11-17 20:35:19,914 : INFO : 2563309750 : Y train shape is (914, 1)]\n",
      "[2024-11-17 20:35:19,917 : INFO : 2563309750 : X test shape is (229, 11)]\n",
      "[2024-11-17 20:35:19,921 : INFO : 2563309750 : Y test shape is (229, 1)]\n",
      "[2024-11-17 20:35:19,976 : INFO : 2563309750 : accuracy score is 0.2902765754040312]\n",
      "[2024-11-17 20:35:19,979 : INFO : 2563309750 : mean squared error is 0.4383852552299273]\n",
      "[2024-11-17 20:35:19,987 : INFO : common : json file save to path : data\\model_evaluation\\metrics.json]\n"
     ]
    }
   ],
   "source": [
    "obj3=Configuration()\n",
    "trainer_config=obj3.model_trainer_config()\n",
    "obj4=ModelTrainer(trainer_config)\n",
    "obj4.train_model(train_arr,test_arr)"
   ]
  },
  {
   "cell_type": "code",
   "execution_count": null,
   "metadata": {},
   "outputs": [],
   "source": []
  }
 ],
 "metadata": {
  "kernelspec": {
   "display_name": "myenv",
   "language": "python",
   "name": "python3"
  },
  "language_info": {
   "codemirror_mode": {
    "name": "ipython",
    "version": 3
   },
   "file_extension": ".py",
   "mimetype": "text/x-python",
   "name": "python",
   "nbconvert_exporter": "python",
   "pygments_lexer": "ipython3",
   "version": "3.8.0"
  }
 },
 "nbformat": 4,
 "nbformat_minor": 2
}
