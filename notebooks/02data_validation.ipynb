{
 "cells": [
  {
   "cell_type": "code",
   "execution_count": 1,
   "metadata": {},
   "outputs": [],
   "source": [
    "import os"
   ]
  },
  {
   "cell_type": "code",
   "execution_count": 2,
   "metadata": {},
   "outputs": [
    {
     "data": {
      "text/plain": [
       "'f:\\\\Machine_learning_end_to_end\\\\machine_learning\\\\notebooks'"
      ]
     },
     "execution_count": 2,
     "metadata": {},
     "output_type": "execute_result"
    }
   ],
   "source": [
    "%pwd"
   ]
  },
  {
   "cell_type": "code",
   "execution_count": 3,
   "metadata": {},
   "outputs": [],
   "source": [
    "os.chdir(\"../\")"
   ]
  },
  {
   "cell_type": "code",
   "execution_count": 69,
   "metadata": {},
   "outputs": [],
   "source": [
    "from dataclasses import dataclass\n",
    "from pathlib import Path"
   ]
  },
  {
   "cell_type": "code",
   "execution_count": 70,
   "metadata": {},
   "outputs": [],
   "source": [
    "@dataclass\n",
    "class DataValidationConfig:\n",
    "    root_dir:Path\n",
    "    unzip_data_path:Path\n",
    "    STATUS_FILE:bool\n",
    "    all_schema:dict"
   ]
  },
  {
   "cell_type": "code",
   "execution_count": 71,
   "metadata": {},
   "outputs": [],
   "source": [
    "from src.constant import *\n",
    "from src.utils.common import read_yaml"
   ]
  },
  {
   "cell_type": "code",
   "execution_count": 72,
   "metadata": {},
   "outputs": [],
   "source": [
    "class ConfigurationManager:\n",
    "    def __init__(self,\n",
    "                        config_path=CONFIG_FILE_PATH,\n",
    "                        schema_path=SCHEMA_FILE_PATH,\n",
    "                        params_path=PARAMS_FILE_PATH):\n",
    "        self.config=read_yaml(config_path)\n",
    "        self.schema=read_yaml(schema_path)\n",
    "        self.params=read_yaml(params_path)\n",
    "        \n",
    "\n",
    "    def data_val_config(self)->DataValidationConfig:\n",
    "        config=self.config.data_validation\n",
    "        #schema=self.schema.COLUMNS\n",
    "\n",
    "        data_val_config=DataValidationConfig(\n",
    "            root_dir=config.root_dir,\n",
    "            unzip_data_path=config.unzip_data_path,\n",
    "            STATUS_FILE=config.STATUS_FILE,\n",
    "            all_schema=self.schema.COLUMNS\n",
    "        )\n",
    "        return data_val_config   \n"
   ]
  },
  {
   "cell_type": "code",
   "execution_count": 73,
   "metadata": {},
   "outputs": [],
   "source": [
    "from src import logger\n",
    "import pandas as pd"
   ]
  },
  {
   "cell_type": "code",
   "execution_count": 78,
   "metadata": {},
   "outputs": [],
   "source": [
    "class Data_Validation:\n",
    "    def __init__(self,config:DataValidationConfig):\n",
    "        self.config=config\n",
    "\n",
    "    def validate_all_columns(self)->bool:\n",
    "\n",
    "        data=pd.read_csv(self.config.unzip_data_path)\n",
    "        data.drop('quality',axis=1,inplace=True)\n",
    "        all_columns=list(data.columns)\n",
    "        schema_col=self.config.all_schema.keys()\n",
    "        validation_status=None\n",
    "        logger.info(f\"all columns {all_columns} \\n\")\n",
    "        logger.info(f\"schema columns {schema_col}\")\n",
    "\n",
    "        for col in all_columns:\n",
    "            if col not in schema_col:\n",
    "                validation_status=False\n",
    "                with open(self.config.STATUS_FILE,\"w\") as f:\n",
    "                    f.write(f\"Validation status : {validation_status}\")\n",
    "\n",
    "            else:\n",
    "                validation_status=True\n",
    "                with open(self.config.STATUS_FILE,\"w\") as f:\n",
    "                    f.write(f\"validation status : {validation_status}\")\n",
    "        return validation_status\n",
    "\n"
   ]
  },
  {
   "cell_type": "code",
   "execution_count": null,
   "metadata": {},
   "outputs": [
    {
     "name": "stdout",
     "output_type": "stream",
     "text": [
      "[2024-11-11 22:24:12,501 : INFO : common : yaml file path : config\\config.yaml loaded successfully:]\n",
      "[2024-11-11 22:24:12,879 : INFO : common : yaml file path : schema.yaml loaded successfully:]\n",
      "[2024-11-11 22:24:12,929 : INFO : common : yaml file path : params.yaml loaded successfully:]\n",
      "[2024-11-11 22:24:13,541 : INFO : 2739386434 : all columns ['fixed acidity', 'volatile acidity', 'citric acid', 'residual sugar', 'chlorides', 'free sulfur dioxide', 'total sulfur dioxide', 'density', 'pH', 'sulphates', 'alcohol'] \n",
      "]\n",
      "[2024-11-11 22:24:13,543 : INFO : 2739386434 : schema columns dict_keys(['fixed acidity', 'volatile acidity', 'citric acid', 'residual sugar', 'chlorides', 'free sulfur dioxide', 'total sulfur dioxide', 'density', 'pH', 'sulphates', 'alcohol'])]\n"
     ]
    },
    {
     "data": {
      "text/plain": [
       "True"
      ]
     },
     "execution_count": 85,
     "metadata": {},
     "output_type": "execute_result"
    }
   ],
   "source": [
    "val=ConfigurationManager()\n",
    "data_val=val.data_val_config()\n",
    "val2=Data_Validation(data_val)\n",
    "val2.validate_all_columns()"
   ]
  },
  {
   "cell_type": "code",
   "execution_count": null,
   "metadata": {},
   "outputs": [],
   "source": []
  }
 ],
 "metadata": {
  "kernelspec": {
   "display_name": "myenv",
   "language": "python",
   "name": "python3"
  },
  "language_info": {
   "codemirror_mode": {
    "name": "ipython",
    "version": 3
   },
   "file_extension": ".py",
   "mimetype": "text/x-python",
   "name": "python",
   "nbconvert_exporter": "python",
   "pygments_lexer": "ipython3",
   "version": "3.8.0"
  }
 },
 "nbformat": 4,
 "nbformat_minor": 2
}
